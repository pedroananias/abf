{
 "cells": [
  {
   "cell_type": "code",
   "execution_count": null,
   "id": "0177a54f-3b7c-47c8-abac-8da77d41674e",
   "metadata": {},
   "outputs": [],
   "source": [
    "import ee\n",
    "import os\n",
    "from pathlib import Path\n",
    "from datetime import datetime as dt\n",
    "from abf import abf"
   ]
  },
  {
   "cell_type": "code",
   "execution_count": null,
   "id": "9ce7c2a9-de76-4710-a972-0264d1d103e6",
   "metadata": {},
   "outputs": [],
   "source": [
    "__version__ = \"\"\n",
    "exec(Path(f\"{os.getcwd()}/src/abf/version.py\").read_text(encoding=\"utf-8\"))"
   ]
  },
  {
   "cell_type": "code",
   "execution_count": null,
   "id": "0db239d9-6995-49fb-98e8-effc88a89e22",
   "metadata": {},
   "outputs": [],
   "source": [
    "# Initialize Google Earth Engine\n",
    "# ee.Authenticate() (might be needed in some situations)\n",
    "ee.Initialize()"
   ]
  },
  {
   "cell_type": "code",
   "execution_count": null,
   "id": "a22d7951-d3a6-476b-993a-6a1cb3089f58",
   "metadata": {},
   "outputs": [],
   "source": [
    "# Data path\n",
    "folderRoot = os.getcwd() + \"/results\"\n",
    "if not os.path.exists(folderRoot):\n",
    "    os.mkdir(folderRoot)\n",
    "\n",
    "# Images path\n",
    "folderCache = os.getcwd() + \"/cache\"\n",
    "if not os.path.exists(folderCache):\n",
    "    os.mkdir(folderCache)\n",
    "    \n",
    "# Selected image date to dectection\n",
    "selectedDate = \"2019-06-03\"\n",
    "\n",
    "# folder to save results from algorithm at\n",
    "folder = (\n",
    "    folderRoot\n",
    "    + \"/\"\n",
    "    + dt.now().strftime(\"%Y%m%d_%H%M%S\")\n",
    "    + f\"[v={str(__version__)}-sandbox,d={selectedDate},t=180,m=ocsvm,s=modis]\")\n",
    "if not os.path.exists(folder):\n",
    "    os.mkdir(folder)"
   ]
  },
  {
   "cell_type": "code",
   "execution_count": null,
   "id": "4f86838c-4ce7-4c50-bd79-c9165b37cacd",
   "metadata": {},
   "outputs": [],
   "source": [
    "# fix permissions\n",
    "!chmod 777 $folderRoot\n",
    "!chmod 777 $folder\n",
    "!chmod 777 $folderCache"
   ]
  },
  {
   "cell_type": "code",
   "execution_count": null,
   "id": "288c1559-7ad3-4ca3-8829-ef2f5b284500",
   "metadata": {},
   "outputs": [],
   "source": [
    "# Latitude and Longitude (PoI)\n",
    "lat_lon = \"-83.48811946836814,41.85776095627803,-83.18290554014548,41.677617395337826\"\n",
    "\n",
    "# (colon, lat and lon separated by comma, all together)\n",
    "# and dates by the user (two dates, beginning and end, separated by commas)\n",
    "x1, y1, x2, y2 = lat_lon.split(\",\")\n",
    "\n",
    "# Assemble Geometry on Google Earth Engine\n",
    "geometry = ee.Geometry.Polygon(\n",
    "    [\n",
    "        [\n",
    "            [float(x1), float(y2)],\n",
    "            [float(x2), float(y2)],\n",
    "            [float(x2), float(y1)],\n",
    "            [float(x1), float(y1)],\n",
    "            [float(x1), float(y2)],\n",
    "        ]\n",
    "    ]\n",
    ")"
   ]
  },
  {
   "cell_type": "code",
   "execution_count": null,
   "id": "be8caf3e-b09a-4cb6-84d4-3af808b375b6",
   "metadata": {},
   "outputs": [],
   "source": [
    "# create algorithm object\n",
    "algorithm = abf.Abf(days_threshold=180,\n",
    "                    grid_size=12,\n",
    "                    sensor=\"modis\", \n",
    "                    geometry=geometry,\n",
    "                    lat_lon=lat_lon,\n",
    "                    cache_path=folder,\n",
    "                    force_cache=False,\n",
    "                    days_in=5,\n",
    "                    days_out=5,\n",
    "                    from_date=\"2019-07-11\",\n",
    "                    model=\"rf\",\n",
    "                    reducer=True,\n",
    "                    class_mode=True,\n",
    "                    attribute_lat_lon=False)"
   ]
  },
  {
   "cell_type": "code",
   "execution_count": null,
   "id": "5adec2c7-0513-4614-a677-4fe7425f93bc",
   "metadata": {},
   "outputs": [],
   "source": [
    "# preprocessing\n",
    "algorithm.process_timeseries_data()\n",
    "algorithm.process_training_data(df=algorithm.df_timeseries)"
   ]
  },
  {
   "cell_type": "code",
   "execution_count": null,
   "id": "290da1c2-ed90-4d1e-8b1a-92b7aafc1a54",
   "metadata": {},
   "outputs": [],
   "source": [
    "# train/predict\n",
    "algorithm.train(batch_size=2048, disable_gpu=True)\n",
    "algorithm.predict(folder=folder+\"/prediction\")"
   ]
  },
  {
   "cell_type": "code",
   "execution_count": null,
   "id": "b0d3b535-0b27-4cc6-a909-3bee0fbd1f9e",
   "metadata": {},
   "outputs": [],
   "source": [
    "# prediction results\n",
    "algorithm.save_dataset(df=algorithm.df_results, path=folder+'/results.csv')"
   ]
  },
  {
   "cell_type": "code",
   "execution_count": null,
   "id": "31e91fda-f258-4665-a2dc-4261ad1f8db5",
   "metadata": {},
   "outputs": [],
   "source": [
    "# preprocessing results\n",
    "algorithm.save_dataset(df=algorithm.df_timeseries, path=folder+'/timeseries.csv')"
   ]
  }
 ],
 "metadata": {
  "kernelspec": {
   "display_name": "Python 3 (ipykernel)",
   "language": "python",
   "name": "python3"
  },
  "language_info": {
   "codemirror_mode": {
    "name": "ipython",
    "version": 3
   },
   "file_extension": ".py",
   "mimetype": "text/x-python",
   "name": "python",
   "nbconvert_exporter": "python",
   "pygments_lexer": "ipython3",
   "version": "3.9.15"
  }
 },
 "nbformat": 4,
 "nbformat_minor": 5
}
